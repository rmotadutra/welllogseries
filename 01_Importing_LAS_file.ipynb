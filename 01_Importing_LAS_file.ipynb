{
  "nbformat": 4,
  "nbformat_minor": 0,
  "metadata": {
    "colab": {
      "name": "01 - Importing LAS file.ipynb",
      "provenance": [],
      "collapsed_sections": [],
      "toc_visible": true,
      "authorship_tag": "ABX9TyPoOgcl+Pg7AfUM7C52V83b",
      "include_colab_link": true
    },
    "kernelspec": {
      "name": "python3",
      "display_name": "Python 3"
    },
    "language_info": {
      "name": "python"
    }
  },
  "cells": [
    {
      "cell_type": "markdown",
      "metadata": {
        "id": "view-in-github",
        "colab_type": "text"
      },
      "source": [
        "<a href=\"https://colab.research.google.com/github/rmotadutra/welllogseries/blob/main/01_Importing_LAS_file.ipynb\" target=\"_parent\"><img src=\"https://colab.research.google.com/assets/colab-badge.svg\" alt=\"Open In Colab\"/></a>"
      ]
    },
    {
      "cell_type": "code",
      "metadata": {
        "colab": {
          "base_uri": "https://localhost:8080/"
        },
        "id": "NX7QdmeuOMNr",
        "outputId": "7b4f6731-0661-48b2-919b-b85a89e54278"
      },
      "source": [
        "# installing the required packages\n",
        "!pip install lasio"
      ],
      "execution_count": null,
      "outputs": [
        {
          "output_type": "stream",
          "text": [
            "Collecting lasio\n",
            "  Downloading https://files.pythonhosted.org/packages/a3/f6/5e9fd182a0ab82bc76d2d1a3e8102db48325fc4dece54fb7848ca87272eb/lasio-0.29-py2.py3-none-any.whl\n",
            "Requirement already satisfied: numpy in /usr/local/lib/python3.7/dist-packages (from lasio) (1.19.5)\n",
            "Installing collected packages: lasio\n",
            "Successfully installed lasio-0.29\n"
          ],
          "name": "stdout"
        }
      ]
    },
    {
      "cell_type": "markdown",
      "metadata": {
        "id": "96X1fTr2OVp8"
      },
      "source": [
        "# Welcome\n",
        "\n",
        "Author: Rodrigo Dutra\n",
        "\n",
        "Welcome to the first notebook created of the well series. The main goal of this notebook is to show how we can import a LAS file, with the well data, using the LASIO package. Then, in the end, we will learn a simple way to visualize this data that has been imported.\n",
        "\n",
        "**IMPORTANT:** To learn how to import DLIS file look for the notebook: [Importing DLIS file](https://github.com/rmotadutra/welllogseries/blob/main/0X_Importing_DLIS_file.ipynb).\n",
        "\n",
        "> ## Requirements\n",
        "\n",
        "    >> LASIO 0.28"
      ]
    },
    {
      "cell_type": "markdown",
      "metadata": {
        "id": "2PFQ9eGVRP9Y"
      },
      "source": [
        "# Data\n",
        "\n",
        "In this notebook we will use data from well AA-13-30-091-08W4-0, located in Alberta, Canada. This is result of the project to map MacMurray Formation in the Athabasca Oil Sands Area, realized by Alberta Geological Survey. For futher infomations of the dataset, please visit: [Alberta Geological Survey SPE-006](https://ags.aer.ca/publication/spe-006)."
      ]
    },
    {
      "cell_type": "markdown",
      "metadata": {
        "id": "ochdwx7TRYsV"
      },
      "source": [
        "# Log ASCII Standard 2.0 (LAS 2.0)\n",
        "\n",
        "The file used in this notebook belongs to the LAS 2.0 format, created by Canadian Well Logging Society. By default, the content of the file with the LAS 2.0 format is divided into sections:\n",
        "\n",
        "| Seções | Nome |\n",
        "|----------|------|\n",
        "| ~V |  Version *| \n",
        "| ~W |  Well *|\n",
        "| ~C | Curve *|\n",
        "| ~P    | Parameter |\n",
        "| ~O | Other |\n",
        "| ~A     | ASCII Log Data *|\n",
        "\n",
        "For futher informations about LAS 2.0 format, please visit: [LAS 2.0 - Documentation](http://www.cwls.org/wp-content/uploads/2017/02/Las2_Update_Feb2017.pdf)"
      ]
    },
    {
      "cell_type": "markdown",
      "metadata": {
        "id": "jZsfBvCgRl-v"
      },
      "source": [
        "# LASIO\n",
        "\n",
        "To import the LAS file, we will use the lasio package. This is a Python 3 package to read and write Log ASCII Standard (LAS) files.\n",
        "> \n",
        "\n",
        "* [lasio - Documentation](https://lasio.readthedocs.io/en/latest/)\n",
        "* [lasio - Source code](https://github.com/kinverarity1/lasio)"
      ]
    },
    {
      "cell_type": "markdown",
      "metadata": {
        "id": "c289-I7Yyspn"
      },
      "source": [
        "# Importing LAS file"
      ]
    },
    {
      "cell_type": "code",
      "metadata": {
        "id": "-mR6a8iHQ1NR"
      },
      "source": [
        "#importing all the required packages\n",
        "import lasio"
      ],
      "execution_count": null,
      "outputs": []
    },
    {
      "cell_type": "code",
      "metadata": {
        "colab": {
          "base_uri": "https://localhost:8080/"
        },
        "id": "S69yTs-IKOjn",
        "outputId": "f54ce3ad-0490-44b8-9398-daceead2ab63"
      },
      "source": [
        "#downloading the LAS file to the notebook\n",
        "!wget --no-check-certificate 'https://docs.google.com/uc?export=download&id=1kILe1p92lidoihfF2hvlMv5wkrsp9oCR' -O AA-13-30-091-08W4-0.las"
      ],
      "execution_count": null,
      "outputs": [
        {
          "output_type": "stream",
          "text": [
            "--2021-04-19 22:07:40--  https://docs.google.com/uc?export=download&id=1kILe1p92lidoihfF2hvlMv5wkrsp9oCR\n",
            "Resolving docs.google.com (docs.google.com)... 64.233.189.113, 64.233.189.101, 64.233.189.100, ...\n",
            "Connecting to docs.google.com (docs.google.com)|64.233.189.113|:443... connected.\n",
            "HTTP request sent, awaiting response... 302 Moved Temporarily\n",
            "Location: https://doc-10-9g-docs.googleusercontent.com/docs/securesc/ha0ro937gcuc7l7deffksulhg5h7mbp1/nk8m4kd90etmil2hf7c3kuhlbm43gdkk/1618870050000/08833350476852292073/*/1kILe1p92lidoihfF2hvlMv5wkrsp9oCR?e=download [following]\n",
            "Warning: wildcards not supported in HTTP.\n",
            "--2021-04-19 22:07:40--  https://doc-10-9g-docs.googleusercontent.com/docs/securesc/ha0ro937gcuc7l7deffksulhg5h7mbp1/nk8m4kd90etmil2hf7c3kuhlbm43gdkk/1618870050000/08833350476852292073/*/1kILe1p92lidoihfF2hvlMv5wkrsp9oCR?e=download\n",
            "Resolving doc-10-9g-docs.googleusercontent.com (doc-10-9g-docs.googleusercontent.com)... 108.177.125.132, 2404:6800:4008:c01::84\n",
            "Connecting to doc-10-9g-docs.googleusercontent.com (doc-10-9g-docs.googleusercontent.com)|108.177.125.132|:443... connected.\n",
            "HTTP request sent, awaiting response... 200 OK\n",
            "Length: 80600 (79K) [application/octet-stream]\n",
            "Saving to: ‘AA-13-30-091-08W4-0.las’\n",
            "\n",
            "AA-13-30-091-08W4-0 100%[===================>]  78.71K  --.-KB/s    in 0.001s  \n",
            "\n",
            "2021-04-19 22:07:41 (114 MB/s) - ‘AA-13-30-091-08W4-0.las’ saved [80600/80600]\n",
            "\n"
          ],
          "name": "stdout"
        }
      ]
    },
    {
      "cell_type": "code",
      "metadata": {
        "id": "Zgu4s0HmSVzq",
        "colab": {
          "base_uri": "https://localhost:8080/"
        },
        "outputId": "05d01851-d64c-47c2-e1d1-48c2f13d85d9"
      },
      "source": [
        "#importing the data\n",
        "path = \"AA-13-30-091-08W4-0.las\"\n",
        "well = lasio.read(path)\n",
        "print(well)"
      ],
      "execution_count": null,
      "outputs": [
        {
          "output_type": "stream",
          "text": [
            "<lasio.las.LASFile object at 0x7f7d44995610>\n"
          ],
          "name": "stdout"
        }
      ]
    },
    {
      "cell_type": "markdown",
      "metadata": {
        "id": "JQhPoA6Gboss"
      },
      "source": [
        "The function \"lasio.read()\" returns a class (python type) that contains a several properties. For now we want to see the contents of the LAS file, then we will use the \"sections\" property. With this property it's possible to access all the sections (Version, Well, Curves, Parameter, Other) of the LAS file. "
      ]
    },
    {
      "cell_type": "code",
      "metadata": {
        "colab": {
          "base_uri": "https://localhost:8080/"
        },
        "id": "vVrGWH7-ZkJn",
        "outputId": "ea94b637-a2e0-4ca6-d004-28321ace3a63"
      },
      "source": [
        "# Viewing the contents of the LAS file\n",
        "print(well.sections)"
      ],
      "execution_count": null,
      "outputs": [
        {
          "output_type": "stream",
          "text": [
            "{'Version': [HeaderItem(mnemonic=\"VERS\", unit=\"\", value=\"2.0\", descr=\"CWLS Log ASCII Standa\"), HeaderItem(mnemonic=\"WRAP\", unit=\"\", value=\"NO\", descr=\"One line per depth ste\")], 'Well': [HeaderItem(mnemonic=\"STRT\", unit=\"FT\", value=\"30.0\", descr=\"Start Depth\"), HeaderItem(mnemonic=\"STOP\", unit=\"FT\", value=\"463.0\", descr=\"End Depth\"), HeaderItem(mnemonic=\"STEP\", unit=\"FT\", value=\"0.5\", descr=\"Depth Increment\"), HeaderItem(mnemonic=\"NULL\", unit=\"\", value=\"-999.25\", descr=\"NULL Value\"), HeaderItem(mnemonic=\"COMP\", unit=\"\", value=\"PACIFIC PETROLEUMS LIMITED\", descr\"), HeaderItem(mnemonic=\"WELL\", unit=\"\", value=\"BAYSEL-ASHLAND STPBK CH#21 13-30\",\"), HeaderItem(mnemonic=\"FLD\", unit=\"\", value=\"STPBK. OIL SANDS\", descr=\"FIELD NAM\"), HeaderItem(mnemonic=\"LOC\", unit=\"\", value=\"13-30-091-08W4\", descr=\"WELL LOCATI\"), HeaderItem(mnemonic=\"PROV\", unit=\"\", value=\"ALBERTA\", descr=\"PROVINCE\"), HeaderItem(mnemonic=\"SRVC\", unit=\"\", value=\"SCHLUMBERGER\", descr=\"LOGGING SERV\"), HeaderItem(mnemonic=\"DATE\", unit=\"\", value=\"01-MAR-73\", descr=\"DATE LOGGED\"), HeaderItem(mnemonic=\"UWI\", unit=\"\", value=\"AA/13-30-091-08W400\", descr=\"UNIQUE\")], 'Curves': [CurveItem(mnemonic=\"DEPT\", unit=\"FT\", value=\"0   1  0  0\", descr=\"1 DEPTH\", original_mnemonic=\"DEPT\", data.shape=(867,)), CurveItem(mnemonic=\"CALI\", unit=\"IN\", value=\"45 280  1  1\", descr=\"2 DENSITY CALIPER\", original_mnemonic=\"CALI\", data.shape=(867,)), CurveItem(mnemonic=\"DPHI\", unit=\"%\", value=\"45 890 12  1\", descr=\"3 DENSITY POROSITY (SANDSTONE)\", original_mnemonic=\"DPHI\", data.shape=(867,)), CurveItem(mnemonic=\"GR\", unit=\"GAPI\", value=\"45 310  1  1\", descr=\"4 GAMMA RAY\", original_mnemonic=\"GR\", data.shape=(867,)), CurveItem(mnemonic=\"RHOB\", unit=\"G/C3\", value=\"45 350  1  1\", descr=\"5 BULK DENSITY\", original_mnemonic=\"RHOB\", data.shape=(867,)), CurveItem(mnemonic=\"LLS\", unit=\"OHMM\", value=\"11 220  9  1\", descr=\"6 FOCUSSED RESISTIVITY\", original_mnemonic=\"LLS\", data.shape=(867,)), CurveItem(mnemonic=\"SP\", unit=\"MV\", value=\"11  10  1  1\", descr=\"7 SPONTANEOUS POTENTIAL\", original_mnemonic=\"SP\", data.shape=(867,)), CurveItem(mnemonic=\"NPHI\", unit=\"%\", value=\"41 890  3  1\", descr=\"8 NEUTRON POROSITY (SANDSTONE)\", original_mnemonic=\"NPHI\", data.shape=(867,))], 'Parameter': [HeaderItem(mnemonic=\"RUN\", unit=\"\", value=\"1\", descr=\"Run Number\"), HeaderItem(mnemonic=\"GL\", unit=\"FT\", value=\"1240.0\", descr=\"Ground Level Eleva\"), HeaderItem(mnemonic=\"DREF\", unit=\"\", value=\"KB\", descr=\"Depth Reference\"), HeaderItem(mnemonic=\"EREF\", unit=\"FT\", value=\"1244.0\", descr=\"Elevation of Dep\"), HeaderItem(mnemonic=\"TDL\", unit=\"FT\", value=\"464.0\", descr=\"Total Depth Logger\"), HeaderItem(mnemonic=\"TDD\", unit=\"FT\", value=\"455.0\", descr=\"Total Depth Drille\"), HeaderItem(mnemonic=\"CSGL\", unit=\"FT\", value=\"0.0\", descr=\"Casing Bottom Logge\"), HeaderItem(mnemonic=\"CSGD\", unit=\"FT\", value=\"0.0\", descr=\"Casing Bottom Drill\"), HeaderItem(mnemonic=\"CSGS\", unit=\"IN\", value=\"219.0\", descr=\"Casing Size\"), HeaderItem(mnemonic=\"CSGW\", unit=\"LBS\", value=\"0.0\", descr=\"Casing Weight\"), HeaderItem(mnemonic=\"BHT\", unit=\"DEGF\", value=\"52.0\", descr=\"Bottom Hole Tempe\"), HeaderItem(mnemonic=\"BS\", unit=\"IN\", value=\"6.25\", descr=\"Bit Size\"), HeaderItem(mnemonic=\"DFD\", unit=\"\", value=\"1110.0\", descr=\"Mud Weight (Density\"), HeaderItem(mnemonic=\"DFV\", unit=\"\", value=\"89.0\", descr=\"Mud Viscosity\"), HeaderItem(mnemonic=\"DFL\", unit=\"\", value=\"4.5\", descr=\"Mud Fluid Loss\"), HeaderItem(mnemonic=\"DFPH\", unit=\"\", value=\"9.0\", descr=\"Mud pH\"), HeaderItem(mnemonic=\"RM\", unit=\"OHMM\", value=\"4.62\", descr=\"Mud Resistivity\"), HeaderItem(mnemonic=\"RMT\", unit=\"DEGF\", value=\"49.0\", descr=\"Mud Resistivity T\"), HeaderItem(mnemonic=\"RMF\", unit=\"OHMM\", value=\"5.0\", descr=\"Mud Filtrate Resis\"), HeaderItem(mnemonic=\"RMFT\", unit=\"DEGF\", value=\"20.0\", descr=\"RMF Temperature\"), HeaderItem(mnemonic=\"RMC\", unit=\"OHMM\", value=\"5.3\", descr=\"Mud Cake Resistivi\"), HeaderItem(mnemonic=\"RMCT\", unit=\"DEGF\", value=\"20.0\", descr=\"RMC Temperature\")], 'Other': ''}\n"
          ],
          "name": "stdout"
        }
      ]
    },
    {
      "cell_type": "markdown",
      "metadata": {
        "id": "6a8sy1uRgK3p"
      },
      "source": [
        "The \"sections\" property of the class returns a dictionary (python type). To access the contents of each section, we can access the contents of this dictionary with the default python dictionary notation. For example, to access the content of the Version section:\n",
        "\n",
        "```\n",
        ">> well.sections[\"Version\"]\n",
        "```"
      ]
    },
    {
      "cell_type": "code",
      "metadata": {
        "colab": {
          "base_uri": "https://localhost:8080/"
        },
        "id": "O_DhpRf7gx-E",
        "outputId": "1194e15d-ce83-45ae-fc00-c0d76884b3f7"
      },
      "source": [
        "# Accessing the content of the Version section.\n",
        "well.sections[\"Version\"]"
      ],
      "execution_count": null,
      "outputs": [
        {
          "output_type": "execute_result",
          "data": {
            "text/plain": [
              "[HeaderItem(mnemonic=\"VERS\", unit=\"\", value=\"2.0\", descr=\"CWLS Log ASCII Standa\"),\n",
              " HeaderItem(mnemonic=\"WRAP\", unit=\"\", value=\"NO\", descr=\"One line per depth ste\")]"
            ]
          },
          "metadata": {
            "tags": []
          },
          "execution_count": 6
        }
      ]
    },
    {
      "cell_type": "markdown",
      "metadata": {
        "id": "FQ11wSMgiUka"
      },
      "source": [
        "So, if we access and print the content of all sections the entire LAS will be mounted"
      ]
    },
    {
      "cell_type": "code",
      "metadata": {
        "colab": {
          "base_uri": "https://localhost:8080/"
        },
        "id": "hS9-yODzZ6pH",
        "outputId": "1140db61-c82e-4a0c-96ed-c17bff664db2"
      },
      "source": [
        "# Viewing the contents of each section of the LAS file.\n",
        "# Version information.\n",
        "print(well.sections[\"Version\"])\n",
        "# Well information.\n",
        "print(well.sections[\"Well\"])\n",
        "# Curves information.\n",
        "print(well.sections[\"Curves\"])\n",
        "# Parameter information.\n",
        "print(well.sections[\"Parameter\"])\n",
        "# Other information.\n",
        "print(well.sections[\"Other\"])"
      ],
      "execution_count": null,
      "outputs": [
        {
          "output_type": "stream",
          "text": [
            "Mnemonic  Unit  Value  Description                           \n",
            "--------  ----  -----  -----------                           \n",
            "VERS            2.0    CWLS Log ASCII Standard -VERSION 2.0  \n",
            "WRAP            NO     One line per depth step               \n",
            "Mnemonic  Unit  Value                             Description              \n",
            "--------  ----  -----                             -----------              \n",
            "STRT      FT    30.0                              Start Depth              \n",
            "STOP      FT    463.0                             End Depth                \n",
            "STEP      FT    0.5                               Depth Increment          \n",
            "NULL            -999.25                           NULL Value               \n",
            "COMP            PACIFIC PETROLEUMS LIMITED        COMPANY                  \n",
            "WELL            BAYSEL-ASHLAND STPBK CH#21 13-30  WELL NAME                \n",
            "FLD             STPBK. OIL SANDS                  FIELD NAME               \n",
            "LOC             13-30-091-08W4                    WELL LOCATION            \n",
            "PROV            ALBERTA                           PROVINCE                 \n",
            "SRVC            SCHLUMBERGER                      LOGGING SERVICE COMPANY  \n",
            "DATE            01-MAR-73                         DATE LOGGED              \n",
            "UWI             AA/13-30-091-08W400               UNIQUE WELL ID           \n",
            "Mnemonic  Unit  Value         Description                     \n",
            "--------  ----  -----         -----------                     \n",
            "DEPT      FT    0   1  0  0   1 DEPTH                         \n",
            "CALI      IN    45 280  1  1  2 DENSITY CALIPER               \n",
            "DPHI      %     45 890 12  1  3 DENSITY POROSITY (SANDSTONE)  \n",
            "GR        GAPI  45 310  1  1  4 GAMMA RAY                     \n",
            "RHOB      G/C3  45 350  1  1  5 BULK DENSITY                  \n",
            "LLS       OHMM  11 220  9  1  6 FOCUSSED RESISTIVITY          \n",
            "SP        MV    11  10  1  1  7 SPONTANEOUS POTENTIAL         \n",
            "NPHI      %     41 890  3  1  8 NEUTRON POROSITY (SANDSTONE)  \n",
            "Mnemonic  Unit  Value   Description                   \n",
            "--------  ----  -----   -----------                   \n",
            "RUN             1       Run Number                    \n",
            "GL        FT    1240.0  Ground Level Elevation        \n",
            "DREF            KB      Depth Reference               \n",
            "EREF      FT    1244.0  Elevation of Depth Reference  \n",
            "TDL       FT    464.0   Total Depth Logger            \n",
            "TDD       FT    455.0   Total Depth Driller           \n",
            "CSGL      FT    0.0     Casing Bottom Logger          \n",
            "CSGD      FT    0.0     Casing Bottom Driller         \n",
            "CSGS      IN    219.0   Casing Size                   \n",
            "CSGW      LBS   0.0     Casing Weight                 \n",
            "BHT       DEGF  52.0    Bottom Hole Temperature       \n",
            "BS        IN    6.25    Bit Size                      \n",
            "DFD             1110.0  Mud Weight (Density)          \n",
            "DFV             89.0    Mud Viscosity                 \n",
            "DFL             4.5     Mud Fluid Loss                \n",
            "DFPH            9.0     Mud pH                        \n",
            "RM        OHMM  4.62    Mud Resistivity               \n",
            "RMT       DEGF  49.0    Mud Resistivity Temperature   \n",
            "RMF       OHMM  5.0     Mud Filtrate Resistivity      \n",
            "RMFT      DEGF  20.0    RMF Temperature               \n",
            "RMC       OHMM  5.3     Mud Cake Resistivity          \n",
            "RMCT      DEGF  20.0    RMC Temperature               \n",
            "\n"
          ],
          "name": "stdout"
        }
      ]
    },
    {
      "cell_type": "markdown",
      "metadata": {
        "id": "DbZsdwsngKFl"
      },
      "source": [
        "And we can do this by writing less code with creating loop between all the sections."
      ]
    },
    {
      "cell_type": "code",
      "metadata": {
        "colab": {
          "base_uri": "https://localhost:8080/"
        },
        "id": "okucaFP_aBDH",
        "outputId": "596a80ba-7c1c-490f-e7bf-57def0009e98"
      },
      "source": [
        "# Viewing the contents of each section of the LAS file.\n",
        "for section in well.sections.keys():\n",
        "    print(well.sections[section])"
      ],
      "execution_count": null,
      "outputs": [
        {
          "output_type": "stream",
          "text": [
            "Mnemonic  Unit  Value  Description                           \n",
            "--------  ----  -----  -----------                           \n",
            "VERS            2.0    CWLS Log ASCII Standard -VERSION 2.0  \n",
            "WRAP            NO     One line per depth step               \n",
            "Mnemonic  Unit  Value                             Description              \n",
            "--------  ----  -----                             -----------              \n",
            "STRT      FT    30.0                              Start Depth              \n",
            "STOP      FT    463.0                             End Depth                \n",
            "STEP      FT    0.5                               Depth Increment          \n",
            "NULL            -999.25                           NULL Value               \n",
            "COMP            PACIFIC PETROLEUMS LIMITED        COMPANY                  \n",
            "WELL            BAYSEL-ASHLAND STPBK CH#21 13-30  WELL NAME                \n",
            "FLD             STPBK. OIL SANDS                  FIELD NAME               \n",
            "LOC             13-30-091-08W4                    WELL LOCATION            \n",
            "PROV            ALBERTA                           PROVINCE                 \n",
            "SRVC            SCHLUMBERGER                      LOGGING SERVICE COMPANY  \n",
            "DATE            01-MAR-73                         DATE LOGGED              \n",
            "UWI             AA/13-30-091-08W400               UNIQUE WELL ID           \n",
            "Mnemonic  Unit  Value         Description                     \n",
            "--------  ----  -----         -----------                     \n",
            "DEPT      FT    0   1  0  0   1 DEPTH                         \n",
            "CALI      IN    45 280  1  1  2 DENSITY CALIPER               \n",
            "DPHI      %     45 890 12  1  3 DENSITY POROSITY (SANDSTONE)  \n",
            "GR        GAPI  45 310  1  1  4 GAMMA RAY                     \n",
            "RHOB      G/C3  45 350  1  1  5 BULK DENSITY                  \n",
            "LLS       OHMM  11 220  9  1  6 FOCUSSED RESISTIVITY          \n",
            "SP        MV    11  10  1  1  7 SPONTANEOUS POTENTIAL         \n",
            "NPHI      %     41 890  3  1  8 NEUTRON POROSITY (SANDSTONE)  \n",
            "Mnemonic  Unit  Value   Description                   \n",
            "--------  ----  -----   -----------                   \n",
            "RUN             1       Run Number                    \n",
            "GL        FT    1240.0  Ground Level Elevation        \n",
            "DREF            KB      Depth Reference               \n",
            "EREF      FT    1244.0  Elevation of Depth Reference  \n",
            "TDL       FT    464.0   Total Depth Logger            \n",
            "TDD       FT    455.0   Total Depth Driller           \n",
            "CSGL      FT    0.0     Casing Bottom Logger          \n",
            "CSGD      FT    0.0     Casing Bottom Driller         \n",
            "CSGS      IN    219.0   Casing Size                   \n",
            "CSGW      LBS   0.0     Casing Weight                 \n",
            "BHT       DEGF  52.0    Bottom Hole Temperature       \n",
            "BS        IN    6.25    Bit Size                      \n",
            "DFD             1110.0  Mud Weight (Density)          \n",
            "DFV             89.0    Mud Viscosity                 \n",
            "DFL             4.5     Mud Fluid Loss                \n",
            "DFPH            9.0     Mud pH                        \n",
            "RM        OHMM  4.62    Mud Resistivity               \n",
            "RMT       DEGF  49.0    Mud Resistivity Temperature   \n",
            "RMF       OHMM  5.0     Mud Filtrate Resistivity      \n",
            "RMFT      DEGF  20.0    RMF Temperature               \n",
            "RMC       OHMM  5.3     Mud Cake Resistivity          \n",
            "RMCT      DEGF  20.0    RMC Temperature               \n",
            "\n"
          ],
          "name": "stdout"
        }
      ]
    },
    {
      "cell_type": "markdown",
      "metadata": {
        "id": "Yb2mDO3Rj4kH"
      },
      "source": [
        "However, until now, we have only accessed the LAS file metadata. From now on, we will see how to access the data of each curve present in the LAS file. The data from all the curves can be found in another property of the class, named \"data\"."
      ]
    },
    {
      "cell_type": "code",
      "metadata": {
        "colab": {
          "base_uri": "https://localhost:8080/"
        },
        "id": "JUIjbMc3jna8",
        "outputId": "cd613059-464a-42b2-e98a-9bfc3d4b49f9"
      },
      "source": [
        "# Accessing the data for all curves.\n",
        "print(well.data)"
      ],
      "execution_count": null,
      "outputs": [
        {
          "output_type": "stream",
          "text": [
            "[[ 30.        nan     nan ...     nan     nan  37.5  ]\n",
            " [ 30.5       nan     nan ...     nan     nan  37.2  ]\n",
            " [ 31.      7.71   27.66  ...     nan  47.985  35.724]\n",
            " ...\n",
            " [462.      6.145  22.83  ...     nan     nan  35.724]\n",
            " [462.5     6.138  21.996 ...     nan     nan  34.812]\n",
            " [463.      6.08   21.03  ...     nan     nan  35.034]]\n"
          ],
          "name": "stdout"
        }
      ]
    },
    {
      "cell_type": "markdown",
      "metadata": {
        "id": "0fT9OhwbmH6S"
      },
      "source": [
        "The \"data\" property returns a numpy.ndarray type. This represents an array n dimensional, which in each dimension contains the data for each curve. However, it's dificult to know which one represents the gamma ray data, for example. Then, when we read the LAS file, the lasio package extends all the sections in properties of the class. Therefore, we can access the data for each curve from the mnemonic.\n",
        "\n",
        "**IMPORTANT**\n",
        "All the sections are extends to properties of the original class, where here we called \"well\". However, this properties returns other classes. For example, the result of the function \"well.curves\" is a class. So, it's important to give the exactly mnemonic to access the information of the curve."
      ]
    },
    {
      "cell_type": "code",
      "metadata": {
        "colab": {
          "base_uri": "https://localhost:8080/"
        },
        "id": "LWjQpzmSoI6A",
        "outputId": "3f510fcf-11b8-486c-f6db-489255cb0406"
      },
      "source": [
        "# Accessing the depth curve data.\n",
        "print(well.curves.DEPT.data)\n",
        "# Accessing the gr curve data.\n",
        "print(well.curves.GR.data)"
      ],
      "execution_count": null,
      "outputs": [
        {
          "output_type": "stream",
          "text": [
            "[ 30.   30.5  31.   31.5  32.   32.5  33.   33.5  34.   34.5  35.   35.5\n",
            "  36.   36.5  37.   37.5  38.   38.5  39.   39.5  40.   40.5  41.   41.5\n",
            "  42.   42.5  43.   43.5  44.   44.5  45.   45.5  46.   46.5  47.   47.5\n",
            "  48.   48.5  49.   49.5  50.   50.5  51.   51.5  52.   52.5  53.   53.5\n",
            "  54.   54.5  55.   55.5  56.   56.5  57.   57.5  58.   58.5  59.   59.5\n",
            "  60.   60.5  61.   61.5  62.   62.5  63.   63.5  64.   64.5  65.   65.5\n",
            "  66.   66.5  67.   67.5  68.   68.5  69.   69.5  70.   70.5  71.   71.5\n",
            "  72.   72.5  73.   73.5  74.   74.5  75.   75.5  76.   76.5  77.   77.5\n",
            "  78.   78.5  79.   79.5  80.   80.5  81.   81.5  82.   82.5  83.   83.5\n",
            "  84.   84.5  85.   85.5  86.   86.5  87.   87.5  88.   88.5  89.   89.5\n",
            "  90.   90.5  91.   91.5  92.   92.5  93.   93.5  94.   94.5  95.   95.5\n",
            "  96.   96.5  97.   97.5  98.   98.5  99.   99.5 100.  100.5 101.  101.5\n",
            " 102.  102.5 103.  103.5 104.  104.5 105.  105.5 106.  106.5 107.  107.5\n",
            " 108.  108.5 109.  109.5 110.  110.5 111.  111.5 112.  112.5 113.  113.5\n",
            " 114.  114.5 115.  115.5 116.  116.5 117.  117.5 118.  118.5 119.  119.5\n",
            " 120.  120.5 121.  121.5 122.  122.5 123.  123.5 124.  124.5 125.  125.5\n",
            " 126.  126.5 127.  127.5 128.  128.5 129.  129.5 130.  130.5 131.  131.5\n",
            " 132.  132.5 133.  133.5 134.  134.5 135.  135.5 136.  136.5 137.  137.5\n",
            " 138.  138.5 139.  139.5 140.  140.5 141.  141.5 142.  142.5 143.  143.5\n",
            " 144.  144.5 145.  145.5 146.  146.5 147.  147.5 148.  148.5 149.  149.5\n",
            " 150.  150.5 151.  151.5 152.  152.5 153.  153.5 154.  154.5 155.  155.5\n",
            " 156.  156.5 157.  157.5 158.  158.5 159.  159.5 160.  160.5 161.  161.5\n",
            " 162.  162.5 163.  163.5 164.  164.5 165.  165.5 166.  166.5 167.  167.5\n",
            " 168.  168.5 169.  169.5 170.  170.5 171.  171.5 172.  172.5 173.  173.5\n",
            " 174.  174.5 175.  175.5 176.  176.5 177.  177.5 178.  178.5 179.  179.5\n",
            " 180.  180.5 181.  181.5 182.  182.5 183.  183.5 184.  184.5 185.  185.5\n",
            " 186.  186.5 187.  187.5 188.  188.5 189.  189.5 190.  190.5 191.  191.5\n",
            " 192.  192.5 193.  193.5 194.  194.5 195.  195.5 196.  196.5 197.  197.5\n",
            " 198.  198.5 199.  199.5 200.  200.5 201.  201.5 202.  202.5 203.  203.5\n",
            " 204.  204.5 205.  205.5 206.  206.5 207.  207.5 208.  208.5 209.  209.5\n",
            " 210.  210.5 211.  211.5 212.  212.5 213.  213.5 214.  214.5 215.  215.5\n",
            " 216.  216.5 217.  217.5 218.  218.5 219.  219.5 220.  220.5 221.  221.5\n",
            " 222.  222.5 223.  223.5 224.  224.5 225.  225.5 226.  226.5 227.  227.5\n",
            " 228.  228.5 229.  229.5 230.  230.5 231.  231.5 232.  232.5 233.  233.5\n",
            " 234.  234.5 235.  235.5 236.  236.5 237.  237.5 238.  238.5 239.  239.5\n",
            " 240.  240.5 241.  241.5 242.  242.5 243.  243.5 244.  244.5 245.  245.5\n",
            " 246.  246.5 247.  247.5 248.  248.5 249.  249.5 250.  250.5 251.  251.5\n",
            " 252.  252.5 253.  253.5 254.  254.5 255.  255.5 256.  256.5 257.  257.5\n",
            " 258.  258.5 259.  259.5 260.  260.5 261.  261.5 262.  262.5 263.  263.5\n",
            " 264.  264.5 265.  265.5 266.  266.5 267.  267.5 268.  268.5 269.  269.5\n",
            " 270.  270.5 271.  271.5 272.  272.5 273.  273.5 274.  274.5 275.  275.5\n",
            " 276.  276.5 277.  277.5 278.  278.5 279.  279.5 280.  280.5 281.  281.5\n",
            " 282.  282.5 283.  283.5 284.  284.5 285.  285.5 286.  286.5 287.  287.5\n",
            " 288.  288.5 289.  289.5 290.  290.5 291.  291.5 292.  292.5 293.  293.5\n",
            " 294.  294.5 295.  295.5 296.  296.5 297.  297.5 298.  298.5 299.  299.5\n",
            " 300.  300.5 301.  301.5 302.  302.5 303.  303.5 304.  304.5 305.  305.5\n",
            " 306.  306.5 307.  307.5 308.  308.5 309.  309.5 310.  310.5 311.  311.5\n",
            " 312.  312.5 313.  313.5 314.  314.5 315.  315.5 316.  316.5 317.  317.5\n",
            " 318.  318.5 319.  319.5 320.  320.5 321.  321.5 322.  322.5 323.  323.5\n",
            " 324.  324.5 325.  325.5 326.  326.5 327.  327.5 328.  328.5 329.  329.5\n",
            " 330.  330.5 331.  331.5 332.  332.5 333.  333.5 334.  334.5 335.  335.5\n",
            " 336.  336.5 337.  337.5 338.  338.5 339.  339.5 340.  340.5 341.  341.5\n",
            " 342.  342.5 343.  343.5 344.  344.5 345.  345.5 346.  346.5 347.  347.5\n",
            " 348.  348.5 349.  349.5 350.  350.5 351.  351.5 352.  352.5 353.  353.5\n",
            " 354.  354.5 355.  355.5 356.  356.5 357.  357.5 358.  358.5 359.  359.5\n",
            " 360.  360.5 361.  361.5 362.  362.5 363.  363.5 364.  364.5 365.  365.5\n",
            " 366.  366.5 367.  367.5 368.  368.5 369.  369.5 370.  370.5 371.  371.5\n",
            " 372.  372.5 373.  373.5 374.  374.5 375.  375.5 376.  376.5 377.  377.5\n",
            " 378.  378.5 379.  379.5 380.  380.5 381.  381.5 382.  382.5 383.  383.5\n",
            " 384.  384.5 385.  385.5 386.  386.5 387.  387.5 388.  388.5 389.  389.5\n",
            " 390.  390.5 391.  391.5 392.  392.5 393.  393.5 394.  394.5 395.  395.5\n",
            " 396.  396.5 397.  397.5 398.  398.5 399.  399.5 400.  400.5 401.  401.5\n",
            " 402.  402.5 403.  403.5 404.  404.5 405.  405.5 406.  406.5 407.  407.5\n",
            " 408.  408.5 409.  409.5 410.  410.5 411.  411.5 412.  412.5 413.  413.5\n",
            " 414.  414.5 415.  415.5 416.  416.5 417.  417.5 418.  418.5 419.  419.5\n",
            " 420.  420.5 421.  421.5 422.  422.5 423.  423.5 424.  424.5 425.  425.5\n",
            " 426.  426.5 427.  427.5 428.  428.5 429.  429.5 430.  430.5 431.  431.5\n",
            " 432.  432.5 433.  433.5 434.  434.5 435.  435.5 436.  436.5 437.  437.5\n",
            " 438.  438.5 439.  439.5 440.  440.5 441.  441.5 442.  442.5 443.  443.5\n",
            " 444.  444.5 445.  445.5 446.  446.5 447.  447.5 448.  448.5 449.  449.5\n",
            " 450.  450.5 451.  451.5 452.  452.5 453.  453.5 454.  454.5 455.  455.5\n",
            " 456.  456.5 457.  457.5 458.  458.5 459.  459.5 460.  460.5 461.  461.5\n",
            " 462.  462.5 463. ]\n",
            "[  nan   nan 36.6  34.14 33.4  35.05 36.12 37.2  37.47 37.64 36.09 33.44\n",
            " 34.16 35.65 37.69 39.38 40.5  39.39 39.51 37.04 34.98 33.72 33.97 34.19\n",
            " 33.99 34.16 34.52 35.97 38.67 43.9  46.44 49.54 54.47 59.62 55.65 49.89\n",
            " 44.13 40.04 39.29 38.32 38.92 39.23 38.01 36.26 38.9  41.33 42.79 44.01\n",
            " 47.15 52.37 54.23 54.46 53.74 52.4  53.01 54.52 57.01 58.54 58.71 58.63\n",
            " 52.88 45.88 43.81 43.47 44.69 45.86 46.06 46.5  48.03 50.39 53.27 49.64\n",
            " 47.01 46.94 46.13 47.49 49.18 50.8  51.92 51.15 50.04 49.27 52.33 53.52\n",
            " 54.26 53.42 51.77 50.36 50.1  52.9  54.92 56.61 57.16 55.94 55.04 54.13\n",
            " 54.03 55.45 56.2  56.75 56.96 53.99 51.73 49.46 47.48 45.7  45.54 47.43\n",
            " 49.46 48.32 46.85 47.18 47.81 48.23 47.86 47.2  48.56 49.22 49.55 49.78\n",
            " 49.07 49.18 50.04 52.55 58.66 62.85 63.15 63.7  61.67 60.19 60.02 62.24\n",
            " 62.36 58.94 60.18 61.84 62.75 60.86 58.97 57.87 59.62 55.3  54.15 57.25\n",
            " 59.78 65.81 64.79 63.9  65.47 66.48 66.4  66.64 62.28 64.35 67.79 70.41\n",
            " 74.06 72.33 71.2  69.44 65.61 64.66 64.01 63.11 63.59 65.98 67.55 67.51\n",
            " 67.54 68.86 68.84 68.1  67.1  63.59 63.59 72.62 73.11 74.27 75.62 76.88\n",
            " 77.79 78.62 78.7  78.5  79.57 82.23 80.94 78.79 77.18 75.78 74.68 73.94\n",
            " 73.26 74.77 76.48 73.78 74.26 73.71 72.54 71.16 69.88 68.98 70.59 73.44\n",
            " 74.45 75.21 74.1  74.41 74.61 73.78 76.33 77.19 75.06 71.84 68.43 63.35\n",
            " 61.63 60.06 60.21 62.01 64.36 66.07 67.35 66.85 66.72 69.97 68.54 70.17\n",
            " 72.15 70.75 68.   65.6  64.   58.91 59.23 61.43 65.06 68.4  70.42 72.11\n",
            " 73.99 75.08 76.74 78.38 79.35 79.69 77.99 75.88 77.26 78.74 78.14 77.62\n",
            " 76.28 77.3  78.88 79.09 79.3  79.45 78.37 77.12 71.4  71.96 73.32 75.54\n",
            " 77.83 79.19 79.89 76.26 74.49 76.37 78.25 79.57 76.29 73.94 75.04 76.83\n",
            " 76.32 75.37 76.08 74.51 73.88 70.17 73.29 73.94 74.3  73.1  72.67 74.25\n",
            " 76.66 77.76 78.25 78.58 78.14 77.81 74.51 73.26 73.78 72.42 70.37 70.7\n",
            " 72.02 73.31 73.58 72.82 71.08 69.81 70.04 70.23 70.29 65.13 62.44 62.44\n",
            " 64.21 65.35 66.54 67.71 63.95 60.81 62.97 65.99 68.82 69.74 71.04 71.04\n",
            " 61.98 61.52 64.28 65.88 66.6  63.67 62.79 64.58 62.77 60.61 62.86 66.23\n",
            " 70.78 72.11 73.77 76.37 78.53 81.19 85.24 83.5  76.52 74.97 74.79 74.41\n",
            " 75.29 77.18 78.5  78.11 76.6  74.26 74.49 76.91 76.37 76.   76.36 73.99\n",
            " 73.19 74.51 77.23 77.13 76.98 75.97 74.1  75.05 74.63 74.34 76.13 77.75\n",
            " 77.43 77.11 74.83 67.54 66.28 62.27 58.55 59.69 60.69 54.46 54.55 55.65\n",
            " 58.01 61.05 63.66 65.88 67.57 68.02 70.16 72.73 72.79 60.07 49.99 45.26\n",
            " 39.27 40.21 40.22 43.5  46.36 49.54 53.6  55.27 56.94 57.4  49.07 45.94\n",
            " 44.42 44.27 46.15 46.86 47.89 50.62 53.19 50.47 47.07 43.24 41.09 42.04\n",
            " 42.8  37.51 35.58 35.62 31.53 29.59 29.78 30.28 31.72 35.24 37.21 36.49\n",
            " 38.24 42.63 52.04 61.45 63.8  64.78 62.55 61.72 63.87 65.13 62.6  60.55\n",
            " 59.22 60.75 62.13 63.51 64.23 67.15 72.88 78.38 83.1  79.73 76.72 73.9\n",
            " 75.14 76.68 73.85 71.03 68.68 65.36 63.11 65.37 68.34 71.35 74.71 76.52\n",
            " 75.72 79.25 81.92 84.85 82.67 81.37 76.68 70.81 67.21 65.05 62.45 53.99\n",
            " 44.28 37.65 31.98 28.63 25.18 22.73 23.43 24.53 25.51 24.17 23.01 23.57\n",
            " 24.9  26.42 24.08 22.35 21.54 21.06 22.   23.66 27.16 31.04 33.06 34.45\n",
            " 35.86 33.61 28.36 22.14 17.29 17.69 18.32 18.76 19.24 19.86 20.7  21.87\n",
            " 23.04 24.4  24.31 23.3  21.36 20.79 20.01 19.38 19.08 20.4  22.18 23.96\n",
            " 25.05 26.17 27.01 24.61 22.17 19.99 17.85 16.58 17.34 18.88 18.8  19.65\n",
            " 21.17 23.4  22.09 20.53 18.88 15.79 16.51 18.8  20.18 20.27 20.13 19.95\n",
            " 19.95 22.53 22.89 20.79 19.19 18.25 18.13 19.21 19.45 20.59 19.9  18.84\n",
            " 19.72 21.06 22.09 22.36 22.62 22.95 24.17 25.92 28.96 30.38 29.28 26.9\n",
            " 23.8  18.76 18.92 19.41 20.19 20.05 19.46 18.04 17.59 17.29 16.85 16.78\n",
            " 19.45 20.96 22.1  22.85 23.21 21.89 20.2  20.19 19.08 20.37 22.48 24.63\n",
            " 24.   24.35 24.95 27.82 31.53 31.65 27.92 24.42 20.92 18.25 19.35 20.63\n",
            " 20.46 19.94 18.64 19.17 19.48 16.78 17.27 17.86 18.05 17.39 16.62 16.42\n",
            " 17.26 17.6  17.95 18.29 17.61 17.85 18.27 18.69 19.48 20.26 21.8  23.44\n",
            " 23.96 24.12 22.98 21.22 21.46 20.36 19.33 19.24 21.26 21.24 21.22 20.84\n",
            " 20.43 20.17 19.88 19.52 19.23 18.21 18.35 18.61 19.11 19.58 19.87 19.12\n",
            " 19.36 20.41 21.71 21.82 21.7  24.25 26.47 27.73 26.11 24.31 22.02 19.01\n",
            " 18.17 18.17 17.25 15.62 13.96 14.19 14.4  15.14 15.9  16.88 18.12 19.96\n",
            " 21.22 18.72 17.29 17.48 18.81 22.61 27.14 30.07 31.68 32.05 27.27 25.6\n",
            " 25.08 24.33 23.26 21.28 19.14 17.   15.55 18.44 20.22 21.43 22.09 21.38\n",
            " 21.18 22.02 22.   21.98 23.25 24.88 26.63 28.35 31.04 32.86 33.82 34.2\n",
            " 34.31 31.97 30.96 30.54 30.5  30.71 31.33 32.37 33.23 33.8  28.32 28.37\n",
            " 28.45 28.52 27.67 22.89 24.38 25.24 25.85 28.3  30.71 32.17 29.43 29.86\n",
            " 30.07 25.95 25.07 26.07 27.38 28.47 30.17 30.71 27.35 25.69 25.03 26.34\n",
            " 29.31 26.08 20.31 14.54 12.91 12.88 12.85 13.53 14.33 15.13 16.28 17.75\n",
            " 21.97 27.37 31.74 34.69 36.44 36.89 31.49 30.95 30.52 27.99 26.3  28.32\n",
            " 30.74 20.07 11.57  9.6  10.56 11.65 12.48 13.45 13.15 12.81 12.83 12.85\n",
            " 12.54 11.34 10.59 13.46 15.79 21.52 29.91 38.3  46.69 52.14 54.82 54.8\n",
            " 53.6  51.95 50.27 49.51 48.08 48.55 45.89 49.39 45.92 42.02 37.73 36.13\n",
            " 35.54 39.59 45.28 48.75 53.91 53.31 54.02 54.26 50.55 47.73 43.34 41.93\n",
            " 38.25 29.11 26.56 25.19 24.08 25.16 26.68 28.56 31.89 27.84 26.82 25.92\n",
            " 25.34 24.94 24.79 24.93 25.07 25.25 25.63 26.37 26.97 26.41 25.11 23.74\n",
            " 22.79 22.11 21.82 22.53 23.21 23.01 23.15 23.43 24.18 25.19 26.23 27.14\n",
            " 27.89 28.   29.76]\n"
          ],
          "name": "stdout"
        }
      ]
    },
    {
      "cell_type": "markdown",
      "metadata": {
        "id": "yDlK6sGGqieL"
      },
      "source": [
        "Now that we know how to access all the information present in a LAS file, it's possible to create plots to better view the well logs. For this, see the next notebook created: [Displaying LogPlots using Matplotlib](https://github.com/rmotadutra/welllogseries/blob/main/02_Displaying_LogPlots_using_Matplotlib.ipynb)."
      ]
    },
    {
      "cell_type": "markdown",
      "metadata": {
        "id": "8NkQrzU7xy15"
      },
      "source": [
        "IMPORTANT: Here, we present an introduction to what the lasio library is able to help when working with LAS files. To go deeper and find out about other features that can be performed with this library, please visit: [lasio - Documentation](https://lasio.readthedocs.io/en/latest/)."
      ]
    }
  ]
}